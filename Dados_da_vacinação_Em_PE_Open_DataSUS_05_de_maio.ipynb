{
  "nbformat": 4,
  "nbformat_minor": 0,
  "metadata": {
    "colab": {
      "name": "Dados da vacinação Em PE - Open DataSUS 05 de maio ",
      "provenance": [],
      "mount_file_id": "1A3tllMxj6syE_iHkxVIX_WGiBWRBMZKZ",
      "authorship_tag": "ABX9TyOZxeZwSfo6Rd+P/YmxGRxU",
      "include_colab_link": true
    },
    "kernelspec": {
      "name": "python3",
      "display_name": "Python 3"
    },
    "language_info": {
      "name": "python"
    }
  },
  "cells": [
    {
      "cell_type": "markdown",
      "metadata": {
        "id": "view-in-github",
        "colab_type": "text"
      },
      "source": [
        "<a href=\"https://colab.research.google.com/github/Jamilbarbosa/Jornalismo-/blob/main/Dados_da_vacina%C3%A7%C3%A3o_Em_PE_Open_DataSUS_05_de_maio.ipynb\" target=\"_parent\"><img src=\"https://colab.research.google.com/assets/colab-badge.svg\" alt=\"Open In Colab\"/></a>"
      ]
    },
    {
      "cell_type": "code",
      "metadata": {
        "colab": {
          "base_uri": "https://localhost:8080/"
        },
        "id": "xLAOAuzz1iEi",
        "outputId": "31497338-7dcc-4cc1-e6d0-64d7f16faf27"
      },
      "source": [
        "## Importando a biblioteca PANDAS e o DATA FRAME da vacinação do Open DataSUS\n",
        "\n",
        "import pandas as pd\n",
        "\n",
        "!wget -P \"/content/drive/MyDrive/Vacina covid\" https://s3-sa-east-1.amazonaws.com/ckan.saude.gov.br/PNI/vacina/uf/2021-05-05/uf%3DPE/part-00000-9a0b7e60-9729-42c8-b7c6-8c3a19c80ee8.c000.csv\n"
      ],
      "execution_count": 1,
      "outputs": [
        {
          "output_type": "stream",
          "text": [
            "--2021-05-06 19:21:17--  https://s3-sa-east-1.amazonaws.com/ckan.saude.gov.br/PNI/vacina/uf/2021-05-05/uf%3DPE/part-00000-9a0b7e60-9729-42c8-b7c6-8c3a19c80ee8.c000.csv\n",
            "Resolving s3-sa-east-1.amazonaws.com (s3-sa-east-1.amazonaws.com)... 52.95.164.34\n",
            "Connecting to s3-sa-east-1.amazonaws.com (s3-sa-east-1.amazonaws.com)|52.95.164.34|:443... connected.\n",
            "HTTP request sent, awaiting response... 200 OK\n",
            "Length: 1050181800 (1002M) [text/csv]\n",
            "Saving to: ‘/content/drive/MyDrive/Vacina covid/part-00000-9a0b7e60-9729-42c8-b7c6-8c3a19c80ee8.c000.csv.1’\n",
            "\n",
            "part-00000-9a0b7e60 100%[===================>]   1002M  10.2MB/s    in 1m 40s  \n",
            "\n",
            "2021-05-06 19:22:58 (9.97 MB/s) - ‘/content/drive/MyDrive/Vacina covid/part-00000-9a0b7e60-9729-42c8-b7c6-8c3a19c80ee8.c000.csv.1’ saved [1050181800/1050181800]\n",
            "\n"
          ],
          "name": "stdout"
        }
      ]
    },
    {
      "cell_type": "code",
      "metadata": {
        "id": "VG6iLoAf2VuZ"
      },
      "source": [
        "## Nomeando o DATAFRAME\n",
        "\n",
        "dados = pd.read_csv(\"/content/drive/MyDrive/Vacina covid/part-00000-9a0b7e60-9729-42c8-b7c6-8c3a19c80ee8.c000.csv\", sep=\";\")"
      ],
      "execution_count": 2,
      "outputs": []
    },
    {
      "cell_type": "code",
      "metadata": {
        "colab": {
          "base_uri": "https://localhost:8080/",
          "height": 1000
        },
        "id": "NC2r9vah3KWP",
        "outputId": "bbc787d5-55fa-42c8-cb41-56854f22e9e6"
      },
      "source": [
        "## Amostra de 10 linhas para consulta\n",
        "\n",
        "dados.head(10)"
      ],
      "execution_count": 3,
      "outputs": [
        {
          "output_type": "execute_result",
          "data": {
            "text/html": [
              "<div>\n",
              "<style scoped>\n",
              "    .dataframe tbody tr th:only-of-type {\n",
              "        vertical-align: middle;\n",
              "    }\n",
              "\n",
              "    .dataframe tbody tr th {\n",
              "        vertical-align: top;\n",
              "    }\n",
              "\n",
              "    .dataframe thead th {\n",
              "        text-align: right;\n",
              "    }\n",
              "</style>\n",
              "<table border=\"1\" class=\"dataframe\">\n",
              "  <thead>\n",
              "    <tr style=\"text-align: right;\">\n",
              "      <th></th>\n",
              "      <th>document_id</th>\n",
              "      <th>paciente_id</th>\n",
              "      <th>paciente_idade</th>\n",
              "      <th>paciente_dataNascimento</th>\n",
              "      <th>paciente_enumSexoBiologico</th>\n",
              "      <th>paciente_racaCor_codigo</th>\n",
              "      <th>paciente_racaCor_valor</th>\n",
              "      <th>paciente_endereco_coIbgeMunicipio</th>\n",
              "      <th>paciente_endereco_coPais</th>\n",
              "      <th>paciente_endereco_nmMunicipio</th>\n",
              "      <th>paciente_endereco_nmPais</th>\n",
              "      <th>paciente_endereco_uf</th>\n",
              "      <th>paciente_endereco_cep</th>\n",
              "      <th>paciente_nacionalidade_enumNacionalidade</th>\n",
              "      <th>estabelecimento_valor</th>\n",
              "      <th>estabelecimento_razaoSocial</th>\n",
              "      <th>estalecimento_noFantasia</th>\n",
              "      <th>estabelecimento_municipio_codigo</th>\n",
              "      <th>estabelecimento_municipio_nome</th>\n",
              "      <th>estabelecimento_uf</th>\n",
              "      <th>vacina_grupoAtendimento_codigo</th>\n",
              "      <th>vacina_grupoAtendimento_nome</th>\n",
              "      <th>vacina_categoria_codigo</th>\n",
              "      <th>vacina_categoria_nome</th>\n",
              "      <th>vacina_lote</th>\n",
              "      <th>vacina_fabricante_nome</th>\n",
              "      <th>vacina_fabricante_referencia</th>\n",
              "      <th>vacina_dataAplicacao</th>\n",
              "      <th>vacina_descricao_dose</th>\n",
              "      <th>vacina_codigo</th>\n",
              "      <th>vacina_nome</th>\n",
              "      <th>sistema_origem</th>\n",
              "      <th>data_importacao_rnds</th>\n",
              "      <th>id_sistema_origem</th>\n",
              "    </tr>\n",
              "  </thead>\n",
              "  <tbody>\n",
              "    <tr>\n",
              "      <th>0</th>\n",
              "      <td>79cef94d-13a0-496f-92ec-cf70d304c3b5-i0b0</td>\n",
              "      <td>9b01f768d8145bde6bcad6e83491252bc05d6475027f43...</td>\n",
              "      <td>69</td>\n",
              "      <td>1952-02-09</td>\n",
              "      <td>M</td>\n",
              "      <td>4</td>\n",
              "      <td>AMARELA</td>\n",
              "      <td>260110.0</td>\n",
              "      <td>10.0</td>\n",
              "      <td>ARARIPINA</td>\n",
              "      <td>BRASIL</td>\n",
              "      <td>PE</td>\n",
              "      <td>56280.0</td>\n",
              "      <td>B</td>\n",
              "      <td>6585329</td>\n",
              "      <td>PREFEITURA MUNICIPAL DE IPUBI</td>\n",
              "      <td>ESF JARDIM SIQUEIRA</td>\n",
              "      <td>260730</td>\n",
              "      <td>IPUBI</td>\n",
              "      <td>PE</td>\n",
              "      <td>202</td>\n",
              "      <td>Pessoas de 65 a 69 anos</td>\n",
              "      <td>2.0</td>\n",
              "      <td>Faixa Etária</td>\n",
              "      <td>210114</td>\n",
              "      <td>FUNDACAO BUTANTAN</td>\n",
              "      <td>Organization/61189445000156</td>\n",
              "      <td>2021-04-07T03:00:00.000Z</td>\n",
              "      <td>1ª Dose</td>\n",
              "      <td>86</td>\n",
              "      <td>Covid-19-Coronavac-Sinovac/Butantan</td>\n",
              "      <td>Novo PNI</td>\n",
              "      <td>2021-04-08 12:34:04</td>\n",
              "      <td>16341</td>\n",
              "    </tr>\n",
              "    <tr>\n",
              "      <th>1</th>\n",
              "      <td>89706399-91fc-4f1f-b476-f730b1196841-i0b0</td>\n",
              "      <td>25f63c66658d6b6f9d3244d3627a14652414b1729aa9aa...</td>\n",
              "      <td>38</td>\n",
              "      <td>1982-05-01</td>\n",
              "      <td>F</td>\n",
              "      <td>99</td>\n",
              "      <td>SEM INFORMACAO</td>\n",
              "      <td>261160.0</td>\n",
              "      <td>10.0</td>\n",
              "      <td>RECIFE</td>\n",
              "      <td>BRASIL</td>\n",
              "      <td>PE</td>\n",
              "      <td>50731.0</td>\n",
              "      <td>B</td>\n",
              "      <td>639</td>\n",
              "      <td>PREFEITURA DA CIDADE DO RECIFE</td>\n",
              "      <td>US 106 CS PROF JOAQUIM CAVALCANTE</td>\n",
              "      <td>261160</td>\n",
              "      <td>RECIFE</td>\n",
              "      <td>PE</td>\n",
              "      <td>926</td>\n",
              "      <td>Outros</td>\n",
              "      <td>9.0</td>\n",
              "      <td>Trabalhadores de Saúde</td>\n",
              "      <td>200280</td>\n",
              "      <td>FUNDACAO BUTANTAN</td>\n",
              "      <td>Organization/61189445000156</td>\n",
              "      <td>2021-02-03T03:00:00.000Z</td>\n",
              "      <td>1ª Dose</td>\n",
              "      <td>86</td>\n",
              "      <td>Covid-19-Coronavac-Sinovac/Butantan</td>\n",
              "      <td>Novo PNI</td>\n",
              "      <td>2021-02-09 17:09:49</td>\n",
              "      <td>16341</td>\n",
              "    </tr>\n",
              "    <tr>\n",
              "      <th>2</th>\n",
              "      <td>6cc929e4-a5b9-4d9d-83bc-abf7753162e8-i0b0</td>\n",
              "      <td>eab514e24ebf994082182fe8402f5475cde84dfe473e65...</td>\n",
              "      <td>77</td>\n",
              "      <td>1944-02-17</td>\n",
              "      <td>F</td>\n",
              "      <td>99</td>\n",
              "      <td>SEM INFORMACAO</td>\n",
              "      <td>261390.0</td>\n",
              "      <td>10.0</td>\n",
              "      <td>SERRA TALHADA</td>\n",
              "      <td>BRASIL</td>\n",
              "      <td>PE</td>\n",
              "      <td>56906.0</td>\n",
              "      <td>B</td>\n",
              "      <td>7578954</td>\n",
              "      <td>MUNICIPIO DE SERRA TALHADA</td>\n",
              "      <td>PNI</td>\n",
              "      <td>261390</td>\n",
              "      <td>SERRA TALHADA</td>\n",
              "      <td>PE</td>\n",
              "      <td>204</td>\n",
              "      <td>Pessoas de 75 a 79 anos</td>\n",
              "      <td>2.0</td>\n",
              "      <td>Faixa Etária</td>\n",
              "      <td>210114</td>\n",
              "      <td>FUNDACAO BUTANTAN</td>\n",
              "      <td>Organization/61189445000156</td>\n",
              "      <td>2021-04-08T03:00:00.000Z</td>\n",
              "      <td>2ª Dose</td>\n",
              "      <td>86</td>\n",
              "      <td>Covid-19-Coronavac-Sinovac/Butantan</td>\n",
              "      <td>Novo PNI</td>\n",
              "      <td>2021-04-16 12:42:21</td>\n",
              "      <td>16341</td>\n",
              "    </tr>\n",
              "    <tr>\n",
              "      <th>3</th>\n",
              "      <td>c6ac16ba-df99-4269-86b2-f22844465afe-i0b0</td>\n",
              "      <td>d8e8325936f6a99247932603b7776155e40a94dd60eb81...</td>\n",
              "      <td>87</td>\n",
              "      <td>1933-07-31</td>\n",
              "      <td>M</td>\n",
              "      <td>1</td>\n",
              "      <td>BRANCA</td>\n",
              "      <td>261070.0</td>\n",
              "      <td>10.0</td>\n",
              "      <td>PAULISTA</td>\n",
              "      <td>BRASIL</td>\n",
              "      <td>PE</td>\n",
              "      <td>NaN</td>\n",
              "      <td>B</td>\n",
              "      <td>2713578</td>\n",
              "      <td>PREFEITURA MUNICIPAL DE ABREU E LIMA</td>\n",
              "      <td>USF CAETES VELHO BAIXO</td>\n",
              "      <td>260005</td>\n",
              "      <td>ABREU E LIMA</td>\n",
              "      <td>PE</td>\n",
              "      <td>205</td>\n",
              "      <td>Pessoas de 80 anos ou mais</td>\n",
              "      <td>2.0</td>\n",
              "      <td>Faixa Etária</td>\n",
              "      <td>4120Z005</td>\n",
              "      <td>FUNDACAO OSWALDO CRUZ</td>\n",
              "      <td>Organization/33781055000135</td>\n",
              "      <td>2021-02-02T03:00:00.000Z</td>\n",
              "      <td>1ª Dose</td>\n",
              "      <td>85</td>\n",
              "      <td>Vacina Covid-19 - Covishield</td>\n",
              "      <td>Novo PNI</td>\n",
              "      <td>2021-03-23 15:33:58</td>\n",
              "      <td>16341</td>\n",
              "    </tr>\n",
              "    <tr>\n",
              "      <th>4</th>\n",
              "      <td>b5cb3276-9686-47b8-bd32-9f05fe7fb329-i0b0</td>\n",
              "      <td>899a10a9179dd750541a1f226a7e9d044f92ccc2f3541f...</td>\n",
              "      <td>73</td>\n",
              "      <td>1947-11-05</td>\n",
              "      <td>M</td>\n",
              "      <td>99</td>\n",
              "      <td>SEM INFORMACAO</td>\n",
              "      <td>260290.0</td>\n",
              "      <td>10.0</td>\n",
              "      <td>CABO DE SANTO AGOSTINHO</td>\n",
              "      <td>BRASIL</td>\n",
              "      <td>PE</td>\n",
              "      <td>54510.0</td>\n",
              "      <td>B</td>\n",
              "      <td>6374980</td>\n",
              "      <td>PREFEITURA MUNICIPAL DO CABO DE SANTO AGOSTINHO</td>\n",
              "      <td>SECRETARIA MUNICIPAL DE SAUDE DO CABO DE SANTO...</td>\n",
              "      <td>260290</td>\n",
              "      <td>CABO DE SANTO AGOSTINHO</td>\n",
              "      <td>PE</td>\n",
              "      <td>203</td>\n",
              "      <td>Pessoas de 70 a 74 anos</td>\n",
              "      <td>2.0</td>\n",
              "      <td>Faixa Etária</td>\n",
              "      <td>210114</td>\n",
              "      <td>FUNDACAO BUTANTAN</td>\n",
              "      <td>Organization/61189445000156</td>\n",
              "      <td>2021-04-09T03:00:00.000Z</td>\n",
              "      <td>2ª Dose</td>\n",
              "      <td>86</td>\n",
              "      <td>Covid-19-Coronavac-Sinovac/Butantan</td>\n",
              "      <td>Novo PNI</td>\n",
              "      <td>2021-04-14 16:11:25</td>\n",
              "      <td>16341</td>\n",
              "    </tr>\n",
              "    <tr>\n",
              "      <th>5</th>\n",
              "      <td>913b60ef-944a-480f-9626-9e992fd9a1b4-i0b0</td>\n",
              "      <td>5375019ad96aa33dcd56a3c524f53add3b80e9677653fd...</td>\n",
              "      <td>54</td>\n",
              "      <td>1967-01-17</td>\n",
              "      <td>M</td>\n",
              "      <td>3</td>\n",
              "      <td>PARDA</td>\n",
              "      <td>261390.0</td>\n",
              "      <td>10.0</td>\n",
              "      <td>SERRA TALHADA</td>\n",
              "      <td>BRASIL</td>\n",
              "      <td>PE</td>\n",
              "      <td>NaN</td>\n",
              "      <td>B</td>\n",
              "      <td>7502362</td>\n",
              "      <td>MINISTERIO DA SAUDE</td>\n",
              "      <td>POLO BASE ATIKUM</td>\n",
              "      <td>260392</td>\n",
              "      <td>CARNAUBEIRA DA PENHA</td>\n",
              "      <td>PE</td>\n",
              "      <td>701</td>\n",
              "      <td>Povos indígenas em terras indígenas</td>\n",
              "      <td>7.0</td>\n",
              "      <td>Povos Indígenas</td>\n",
              "      <td>202010041</td>\n",
              "      <td>FUNDACAO BUTANTAN</td>\n",
              "      <td>Organization/61189445000156</td>\n",
              "      <td>2021-02-23T03:00:00.000Z</td>\n",
              "      <td>2ª Dose</td>\n",
              "      <td>86</td>\n",
              "      <td>Covid-19-Coronavac-Sinovac/Butantan</td>\n",
              "      <td>Novo PNI</td>\n",
              "      <td>2021-02-25 11:25:35</td>\n",
              "      <td>16341</td>\n",
              "    </tr>\n",
              "    <tr>\n",
              "      <th>6</th>\n",
              "      <td>b4b468c9-3458-49b2-bdfa-91da1cfc5926-i0b0</td>\n",
              "      <td>e061469e811056f50216e1c0319bf2a8f0b8d813e6976d...</td>\n",
              "      <td>69</td>\n",
              "      <td>1952-01-23</td>\n",
              "      <td>F</td>\n",
              "      <td>99</td>\n",
              "      <td>SEM INFORMACAO</td>\n",
              "      <td>261160.0</td>\n",
              "      <td>10.0</td>\n",
              "      <td>RECIFE</td>\n",
              "      <td>BRASIL</td>\n",
              "      <td>PE</td>\n",
              "      <td>50920.0</td>\n",
              "      <td>B</td>\n",
              "      <td>9890327</td>\n",
              "      <td>MUNICIPIO DO RECIFE</td>\n",
              "      <td>US 314 USF RIO DA PRATA</td>\n",
              "      <td>261160</td>\n",
              "      <td>RECIFE</td>\n",
              "      <td>PE</td>\n",
              "      <td>202</td>\n",
              "      <td>Pessoas de 65 a 69 anos</td>\n",
              "      <td>2.0</td>\n",
              "      <td>Faixa Etária</td>\n",
              "      <td>210114</td>\n",
              "      <td>SERUM INSTITUTE OF INDIA LTD</td>\n",
              "      <td>NaN</td>\n",
              "      <td>2021-04-13T00:00:00.000Z</td>\n",
              "      <td>2ª Dose</td>\n",
              "      <td>86</td>\n",
              "      <td>Covid-19-Coronavac-Sinovac/Butantan</td>\n",
              "      <td>ESUS APS - NACIONAL (OFFLINE)</td>\n",
              "      <td>2021-04-15 10:00:16</td>\n",
              "      <td>18602</td>\n",
              "    </tr>\n",
              "    <tr>\n",
              "      <th>7</th>\n",
              "      <td>eaa1c409-fb2e-45ea-a1b3-f482567c4a13-i0b0</td>\n",
              "      <td>bf03e0403aa4aac6192b320317c430f4c025d35ef2f468...</td>\n",
              "      <td>93</td>\n",
              "      <td>1927-02-20</td>\n",
              "      <td>F</td>\n",
              "      <td>99</td>\n",
              "      <td>SEM INFORMACAO</td>\n",
              "      <td>261160.0</td>\n",
              "      <td>10.0</td>\n",
              "      <td>RECIFE</td>\n",
              "      <td>BRASIL</td>\n",
              "      <td>PE</td>\n",
              "      <td>50771.0</td>\n",
              "      <td>B</td>\n",
              "      <td>2431319</td>\n",
              "      <td>PREFEITURA MUNICIPAL JABOATAO DOS GUARARAPES</td>\n",
              "      <td>SECRETARIA DE SAUDE DO JABOATAO DOS GUARARAPES</td>\n",
              "      <td>260790</td>\n",
              "      <td>JABOATAO DOS GUARARAPES</td>\n",
              "      <td>PE</td>\n",
              "      <td>205</td>\n",
              "      <td>Pessoas de 80 anos ou mais</td>\n",
              "      <td>2.0</td>\n",
              "      <td>Faixa Etária</td>\n",
              "      <td>4120Z005</td>\n",
              "      <td>FUNDACAO OSWALDO CRUZ</td>\n",
              "      <td>Organization/33781055000135</td>\n",
              "      <td>2021-02-04T03:00:00.000Z</td>\n",
              "      <td>1ª Dose</td>\n",
              "      <td>85</td>\n",
              "      <td>Vacina Covid-19 - Covishield</td>\n",
              "      <td>Novo PNI</td>\n",
              "      <td>2021-03-08 20:24:32</td>\n",
              "      <td>16341</td>\n",
              "    </tr>\n",
              "    <tr>\n",
              "      <th>8</th>\n",
              "      <td>8bdc05a9-4ff8-4112-9859-48f440364318-i0b0</td>\n",
              "      <td>581b1217e96ae509a89f501f68b006a28430a577933dd3...</td>\n",
              "      <td>67</td>\n",
              "      <td>1953-09-05</td>\n",
              "      <td>F</td>\n",
              "      <td>4</td>\n",
              "      <td>AMARELA</td>\n",
              "      <td>261160.0</td>\n",
              "      <td>10.0</td>\n",
              "      <td>RECIFE</td>\n",
              "      <td>BRASIL</td>\n",
              "      <td>PE</td>\n",
              "      <td>52221.0</td>\n",
              "      <td>B</td>\n",
              "      <td>6897029</td>\n",
              "      <td>PREFEITURA DA CIDADE DO RECIFE</td>\n",
              "      <td>US 376 POLICLINICA SALOMAO KELNER</td>\n",
              "      <td>261160</td>\n",
              "      <td>RECIFE</td>\n",
              "      <td>PE</td>\n",
              "      <td>202</td>\n",
              "      <td>Pessoas de 65 a 69 anos</td>\n",
              "      <td>2.0</td>\n",
              "      <td>Faixa Etária</td>\n",
              "      <td>210135</td>\n",
              "      <td>SERUM INSTITUTE OF INDIA LTD</td>\n",
              "      <td>NaN</td>\n",
              "      <td>2021-04-16T00:00:00.000Z</td>\n",
              "      <td>2ª Dose</td>\n",
              "      <td>86</td>\n",
              "      <td>Covid-19-Coronavac-Sinovac/Butantan</td>\n",
              "      <td>ESUS APS - NACIONAL (OFFLINE)</td>\n",
              "      <td>2021-04-18 10:00:42</td>\n",
              "      <td>18602</td>\n",
              "    </tr>\n",
              "    <tr>\n",
              "      <th>9</th>\n",
              "      <td>43922263-312e-446d-86a0-5fb00b8f5bba-i0b0</td>\n",
              "      <td>c6f47be52ea3b1f90061dc5d67557bf7347b4fdca594c9...</td>\n",
              "      <td>80</td>\n",
              "      <td>1940-03-17</td>\n",
              "      <td>M</td>\n",
              "      <td>2</td>\n",
              "      <td>PRETA</td>\n",
              "      <td>261160.0</td>\n",
              "      <td>10.0</td>\n",
              "      <td>RECIFE</td>\n",
              "      <td>BRASIL</td>\n",
              "      <td>PE</td>\n",
              "      <td>52211.0</td>\n",
              "      <td>B</td>\n",
              "      <td>6897029</td>\n",
              "      <td>PREFEITURA DA CIDADE DO RECIFE</td>\n",
              "      <td>US 376 POLICLINICA SALOMAO KELNER</td>\n",
              "      <td>261160</td>\n",
              "      <td>RECIFE</td>\n",
              "      <td>PE</td>\n",
              "      <td>205</td>\n",
              "      <td>Pessoas de 80 anos ou mais</td>\n",
              "      <td>2.0</td>\n",
              "      <td>Faixa Etária</td>\n",
              "      <td>4120Z005</td>\n",
              "      <td>SINOVAC LIFE SCIENCE CO LTD</td>\n",
              "      <td>NaN</td>\n",
              "      <td>2021-02-18T00:00:00.000Z</td>\n",
              "      <td>1ª Dose</td>\n",
              "      <td>85</td>\n",
              "      <td>Vacina Covid-19 - Covishield</td>\n",
              "      <td>ESUS APS - NACIONAL (OFFLINE)</td>\n",
              "      <td>2021-03-17 12:02:33</td>\n",
              "      <td>18602</td>\n",
              "    </tr>\n",
              "  </tbody>\n",
              "</table>\n",
              "</div>"
            ],
            "text/plain": [
              "                                 document_id  ... id_sistema_origem\n",
              "0  79cef94d-13a0-496f-92ec-cf70d304c3b5-i0b0  ...             16341\n",
              "1  89706399-91fc-4f1f-b476-f730b1196841-i0b0  ...             16341\n",
              "2  6cc929e4-a5b9-4d9d-83bc-abf7753162e8-i0b0  ...             16341\n",
              "3  c6ac16ba-df99-4269-86b2-f22844465afe-i0b0  ...             16341\n",
              "4  b5cb3276-9686-47b8-bd32-9f05fe7fb329-i0b0  ...             16341\n",
              "5  913b60ef-944a-480f-9626-9e992fd9a1b4-i0b0  ...             16341\n",
              "6  b4b468c9-3458-49b2-bdfa-91da1cfc5926-i0b0  ...             18602\n",
              "7  eaa1c409-fb2e-45ea-a1b3-f482567c4a13-i0b0  ...             16341\n",
              "8  8bdc05a9-4ff8-4112-9859-48f440364318-i0b0  ...             18602\n",
              "9  43922263-312e-446d-86a0-5fb00b8f5bba-i0b0  ...             18602\n",
              "\n",
              "[10 rows x 34 columns]"
            ]
          },
          "metadata": {
            "tags": []
          },
          "execution_count": 3
        }
      ]
    },
    {
      "cell_type": "code",
      "metadata": {
        "colab": {
          "base_uri": "https://localhost:8080/"
        },
        "id": "dxgHcP3i4AiO",
        "outputId": "9af009a6-c8f9-4a51-e827-c2fbd56c75b3"
      },
      "source": [
        "## Tamanho da base de dados(Numero de pessoas vacinadas x dados sobre o vacinado)\n",
        "## a populaçao estimada de PE é de 9.616.621 pessoas (Fonte=https://cidades.ibge.gov.br/brasil/pe/panorama)\n",
        "\n",
        "dados.shape"
      ],
      "execution_count": 4,
      "outputs": [
        {
          "output_type": "execute_result",
          "data": {
            "text/plain": [
              "(1905548, 34)"
            ]
          },
          "metadata": {
            "tags": []
          },
          "execution_count": 4
        }
      ]
    },
    {
      "cell_type": "markdown",
      "metadata": {
        "id": "lIoF3_Y25x02"
      },
      "source": [
        "Geografia da vacinação em Pernambuco \n"
      ]
    },
    {
      "cell_type": "code",
      "metadata": {
        "colab": {
          "base_uri": "https://localhost:8080/"
        },
        "id": "s0F0E1gV4F8m",
        "outputId": "bd395cae-4619-47cf-95de-2b9cae93cfc6"
      },
      "source": [
        "### Numero de cidades com vacinação em PE - \n",
        "\n",
        "## OBS: Todas as cidades-- A unidade federativas PE tem 185 cidades\n",
        "\n",
        "len(dados[\"estabelecimento_municipio_nome\"].unique())"
      ],
      "execution_count": 5,
      "outputs": [
        {
          "output_type": "execute_result",
          "data": {
            "text/plain": [
              "185"
            ]
          },
          "metadata": {
            "tags": []
          },
          "execution_count": 5
        }
      ]
    },
    {
      "cell_type": "code",
      "metadata": {
        "colab": {
          "base_uri": "https://localhost:8080/"
        },
        "id": "mAzGZyrP47px",
        "outputId": "02872748-e2ec-4cc8-d89b-2787b5c297e9"
      },
      "source": [
        "## Numero de vacinados por cidades \n",
        "\n",
        "dados[\"estabelecimento_municipio_nome\"].value_counts()"
      ],
      "execution_count": 6,
      "outputs": [
        {
          "output_type": "execute_result",
          "data": {
            "text/plain": [
              "RECIFE                     505344\n",
              "JABOATAO DOS GUARARAPES    102037\n",
              "CARUARU                     72535\n",
              "OLINDA                      59362\n",
              "PETROLINA                   52403\n",
              "                            ...  \n",
              "PALMEIRINA                   1444\n",
              "INGAZEIRA                    1361\n",
              "SOLIDAO                      1310\n",
              "FERNANDO DE NORONHA          1303\n",
              "ITACURUBA                    1276\n",
              "Name: estabelecimento_municipio_nome, Length: 185, dtype: int64"
            ]
          },
          "metadata": {
            "tags": []
          },
          "execution_count": 6
        }
      ]
    },
    {
      "cell_type": "code",
      "metadata": {
        "colab": {
          "base_uri": "https://localhost:8080/",
          "height": 280
        },
        "id": "mxiiphIW5J1e",
        "outputId": "d253d27b-26ad-4c60-c99a-5c00b13cea70"
      },
      "source": [
        "dados.estabelecimento_municipio_nome.value_counts(normalize=\"true\").plot(kind=\"pie\").set_title(\"Proporção de vacinados por cidades\")"
      ],
      "execution_count": 7,
      "outputs": [
        {
          "output_type": "execute_result",
          "data": {
            "text/plain": [
              "Text(0.5, 1.0, 'Proporção de vacinados por cidades')"
            ]
          },
          "metadata": {
            "tags": []
          },
          "execution_count": 7
        },
        {
          "output_type": "display_data",
          "data": {
            "image/png": "[encoded data removed]",
            "text/plain": [
              "<Figure size 432x288 with 1 Axes>"
            ]
          },
          "metadata": {
            "tags": []
          }
        }
      ]
    },
    {
      "cell_type": "code",
      "metadata": {
        "colab": {
          "base_uri": "https://localhost:8080/"
        },
        "id": "wzCB2yig5TKd",
        "outputId": "6b696354-612e-463f-d789-a482f081c15e"
      },
      "source": [
        "## 30 cidades que mais vacinaram no estado de Pernambuco \n",
        "\n",
        "dados.estabelecimento_municipio_nome.value_counts().head(30)"
      ],
      "execution_count": 8,
      "outputs": [
        {
          "output_type": "execute_result",
          "data": {
            "text/plain": [
              "RECIFE                     505344\n",
              "JABOATAO DOS GUARARAPES    102037\n",
              "CARUARU                     72535\n",
              "OLINDA                      59362\n",
              "PETROLINA                   52403\n",
              "PAULISTA                    38552\n",
              "CABO DE SANTO AGOSTINHO     36505\n",
              "GARANHUNS                   33652\n",
              "VITORIA DE SANTO ANTAO      24886\n",
              "CAMARAGIBE                  23639\n",
              "SERRA TALHADA               21246\n",
              "IGARASSU                    20458\n",
              "PESQUEIRA                   19976\n",
              "SALGUEIRO                   19959\n",
              "ARCOVERDE                   17212\n",
              "LIMOEIRO                    15754\n",
              "GOIANA                      15393\n",
              "ARARIPINA                   15359\n",
              "AGUAS BELAS                 15096\n",
              "SURUBIM                     13891\n",
              "GRAVATA                     13682\n",
              "OURICURI                    13631\n",
              "CARPINA                     13554\n",
              "ABREU E LIMA                12135\n",
              "BEZERROS                    11823\n",
              "BUIQUE                      11768\n",
              "SAO LOURENCO DA MATA        11732\n",
              "BOM CONSELHO                11548\n",
              "PALMARES                    11392\n",
              "TIMBAUBA                    10559\n",
              "Name: estabelecimento_municipio_nome, dtype: int64"
            ]
          },
          "metadata": {
            "tags": []
          },
          "execution_count": 8
        }
      ]
    },
    {
      "cell_type": "markdown",
      "metadata": {
        "id": "I-p2aBho5rQV"
      },
      "source": [
        "Sobre os vacinados"
      ]
    },
    {
      "cell_type": "code",
      "metadata": {
        "colab": {
          "base_uri": "https://localhost:8080/"
        },
        "id": "mm7EWxrO6sA7",
        "outputId": "83ce5b11-736e-4934-f86d-e3e0a9776d58"
      },
      "source": [
        "## Quantidade de vacinados por sexo biologico \n",
        "\n",
        "dados.paciente_enumSexoBiologico.value_counts()"
      ],
      "execution_count": 9,
      "outputs": [
        {
          "output_type": "execute_result",
          "data": {
            "text/plain": [
              "F    1148979\n",
              "M     756569\n",
              "Name: paciente_enumSexoBiologico, dtype: int64"
            ]
          },
          "metadata": {
            "tags": []
          },
          "execution_count": 9
        }
      ]
    },
    {
      "cell_type": "code",
      "metadata": {
        "colab": {
          "base_uri": "https://localhost:8080/",
          "height": 296
        },
        "id": "0PXvfqrk67lg",
        "outputId": "b07afd87-c71e-41e6-e723-fc5689f57034"
      },
      "source": [
        "# Gráfico de pizza proporção dos vacinados por sexo \n",
        "\n",
        "dados.paciente_enumSexoBiologico.value_counts().plot(kind='bar').set_title(\"Vacinados por sexo\")"
      ],
      "execution_count": 16,
      "outputs": [
        {
          "output_type": "execute_result",
          "data": {
            "text/plain": [
              "Text(0.5, 1.0, 'Vacinados por sexo')"
            ]
          },
          "metadata": {
            "tags": []
          },
          "execution_count": 16
        },
        {
          "output_type": "display_data",
          "data": {
            "image/png": "[encoded data removed]",
            "text/plain": [
              "<Figure size 432x288 with 1 Axes>"
            ]
          },
          "metadata": {
            "tags": [],
            "needs_background": "light"
          }
        }
      ]
    },
    {
      "cell_type": "code",
      "metadata": {
        "colab": {
          "base_uri": "https://localhost:8080/"
        },
        "id": "3ewo3ecH5_Qf",
        "outputId": "e5ad04ee-eb07-45d7-80a1-b44d4f0dcdb0"
      },
      "source": [
        "# Quantidade de vacinados por idade até os 60 anos\n",
        "\n",
        "dados[\"paciente_idade\"].value_counts().sort_index(ascending=\"false\").head(60)"
      ],
      "execution_count": 11,
      "outputs": [
        {
          "output_type": "execute_result",
          "data": {
            "text/plain": [
              "0         2\n",
              "1         4\n",
              "2         1\n",
              "3         1\n",
              "4         2\n",
              "5         5\n",
              "6         3\n",
              "7         3\n",
              "9         3\n",
              "10        1\n",
              "12        2\n",
              "13        2\n",
              "14        9\n",
              "15        3\n",
              "16       10\n",
              "17       54\n",
              "18     2991\n",
              "19     4258\n",
              "20     5608\n",
              "21     7170\n",
              "22     8418\n",
              "23    10175\n",
              "24    10988\n",
              "25    11971\n",
              "26    12046\n",
              "27    12235\n",
              "28    12325\n",
              "29    12607\n",
              "30    12502\n",
              "31    13676\n",
              "32    14067\n",
              "33    14249\n",
              "34    14667\n",
              "35    14418\n",
              "36    13621\n",
              "37    14528\n",
              "38    15293\n",
              "39    15384\n",
              "40    14739\n",
              "41    14058\n",
              "42    13493\n",
              "43    12872\n",
              "44    12640\n",
              "45    11823\n",
              "46    11652\n",
              "47    11243\n",
              "48    11012\n",
              "49    10044\n",
              "50    10256\n",
              "51    10083\n",
              "52     9523\n",
              "53     8917\n",
              "54     8789\n",
              "55     8334\n",
              "56     8215\n",
              "57     7641\n",
              "58     7024\n",
              "59     7089\n",
              "60    38605\n",
              "61    42600\n",
              "Name: paciente_idade, dtype: int64"
            ]
          },
          "metadata": {
            "tags": []
          },
          "execution_count": 11
        }
      ]
    },
    {
      "cell_type": "code",
      "metadata": {
        "id": "8xCVKz8oleYv",
        "outputId": "46a024f4-d7f0-46e6-b20e-b826f9268e7a",
        "colab": {
          "base_uri": "https://localhost:8080/"
        }
      },
      "source": [
        "dados[\"paciente_idade\"].value_counts().head(60)"
      ],
      "execution_count": 17,
      "outputs": [
        {
          "output_type": "execute_result",
          "data": {
            "text/plain": [
              "70    82591\n",
              "71    78781\n",
              "65    75508\n",
              "72    74209\n",
              "66    73131\n",
              "73    71447\n",
              "67    69423\n",
              "68    68705\n",
              "69    67081\n",
              "74    62162\n",
              "64    58804\n",
              "75    55643\n",
              "76    52010\n",
              "63    51861\n",
              "77    48230\n",
              "62    47657\n",
              "78    43322\n",
              "61    42600\n",
              "60    38605\n",
              "79    36623\n",
              "80    34993\n",
              "81    30099\n",
              "82    24878\n",
              "83    22525\n",
              "85    19861\n",
              "84    19623\n",
              "86    15681\n",
              "39    15384\n",
              "38    15293\n",
              "40    14739\n",
              "34    14667\n",
              "37    14528\n",
              "35    14418\n",
              "33    14249\n",
              "32    14067\n",
              "41    14058\n",
              "31    13676\n",
              "36    13621\n",
              "42    13493\n",
              "43    12872\n",
              "44    12640\n",
              "29    12607\n",
              "30    12502\n",
              "28    12325\n",
              "27    12235\n",
              "26    12046\n",
              "25    11971\n",
              "45    11823\n",
              "87    11752\n",
              "46    11652\n",
              "88    11435\n",
              "47    11243\n",
              "48    11012\n",
              "24    10988\n",
              "50    10256\n",
              "23    10175\n",
              "51    10083\n",
              "49    10044\n",
              "89     9914\n",
              "90     9654\n",
              "Name: paciente_idade, dtype: int64"
            ]
          },
          "metadata": {
            "tags": []
          },
          "execution_count": 17
        }
      ]
    },
    {
      "cell_type": "code",
      "metadata": {
        "colab": {
          "base_uri": "https://localhost:8080/",
          "height": 498
        },
        "id": "f-he57R76R2V",
        "outputId": "802558a6-dad7-4c51-f070-9bae49ccb202"
      },
      "source": [
        "##  Grafico de barras quantidade de pessoas por faixa etaria(N de pessoas x idade)\n",
        "\n",
        "dados[\"paciente_idade\"].hist(bins=100,figsize=(10,8)).set_title(\"N de PESSOAS X IDADE\");"
      ],
      "execution_count": 12,
      "outputs": [
        {
          "output_type": "display_data",
          "data": {
            "image/png": "[encoded data removed]",
            "text/plain": [
              "<Figure size 720x576 with 1 Axes>"
            ]
          },
          "metadata": {
            "tags": [],
            "needs_background": "light"
          }
        }
      ]
    },
    {
      "cell_type": "code",
      "metadata": {
        "colab": {
          "base_uri": "https://localhost:8080/"
        },
        "id": "r9JW_Cx-5kIN",
        "outputId": "825e7540-4592-4ab1-c24a-b566ddc6acbd"
      },
      "source": [
        "## Dados de raça entre os vacinados \n",
        "\n",
        "dados[\"paciente_racaCor_valor\"].value_counts()"
      ],
      "execution_count": 13,
      "outputs": [
        {
          "output_type": "execute_result",
          "data": {
            "text/plain": [
              "SEM INFORMACAO    585737\n",
              "PARDA             464705\n",
              "AMARELA           406310\n",
              "BRANCA            343612\n",
              "PRETA              64042\n",
              "INDIGENA           41142\n",
              "Name: paciente_racaCor_valor, dtype: int64"
            ]
          },
          "metadata": {
            "tags": []
          },
          "execution_count": 13
        }
      ]
    },
    {
      "cell_type": "code",
      "metadata": {
        "colab": {
          "base_uri": "https://localhost:8080/",
          "height": 378
        },
        "id": "Qjy6UHvv6kAV",
        "outputId": "a77f0628-4732-4a31-97cc-c0e6ae8ab0d0"
      },
      "source": [
        "## Grafico de barras proporção de vacinados por raça\n",
        "\n",
        "dados.paciente_racaCor_valor.value_counts().plot(kind='bar').set_title(\"Raça/Cor auto declarada do vacinado\")"
      ],
      "execution_count": 14,
      "outputs": [
        {
          "output_type": "execute_result",
          "data": {
            "text/plain": [
              "Text(0.5, 1.0, 'Raça/Cor auto declarada do vacinado')"
            ]
          },
          "metadata": {
            "tags": []
          },
          "execution_count": 14
        },
        {
          "output_type": "display_data",
          "data": {
            "image/png": "[encoded data removed]",
            "text/plain": [
              "<Figure size 432x288 with 1 Axes>"
            ]
          },
          "metadata": {
            "tags": [],
            "needs_background": "light"
          }
        }
      ]
    },
    {
      "cell_type": "code",
      "metadata": {
        "colab": {
          "base_uri": "https://localhost:8080/"
        },
        "id": "DbwztjAL7wyH",
        "outputId": "93c3ca62-88f1-4136-ea03-8b6cda6ca929"
      },
      "source": [
        "## Categoria de vacinação \"Grupos prioritarios\"\n",
        "\n",
        "dados[\"vacina_categoria_nome\"].value_counts()"
      ],
      "execution_count": 15,
      "outputs": [
        {
          "output_type": "execute_result",
          "data": {
            "text/plain": [
              "Faixa Etária                                       1358688\n",
              "Trabalhadores de Saúde                              406742\n",
              "Povos Indígenas                                      46523\n",
              "Pessoas de 60 anos ou mais institucionalizadas       43126\n",
              "Povos e Comunidades Tradicionais                     32838\n",
              "Forças de Segurança e Salvamento                      6218\n",
              "Comorbidades                                          5518\n",
              "Trabalhadores da Educação                             1509\n",
              "Pessoas com Deficiência                               1402\n",
              "Trabalhadores Portuários                                47\n",
              "Funcionário do Sistema de Privação de Liberdade         40\n",
              "Trabalhadores Industriais                               23\n",
              "Forças Armadas (membros ativos)                         15\n",
              "Pessoas em Situação de Rua                               8\n",
              "População Privada de Liberdade                           5\n",
              "Name: vacina_categoria_nome, dtype: int64"
            ]
          },
          "metadata": {
            "tags": []
          },
          "execution_count": 15
        }
      ]
    },
    {
      "cell_type": "code",
      "metadata": {
        "colab": {
          "base_uri": "https://localhost:8080/"
        },
        "id": "eoQPHETl8IFV",
        "outputId": "73fb33fc-e30b-4e83-9671-ae224f66903a"
      },
      "source": [
        "# categoria da vacinação \"Categorias de atendimento dos grupos prioritarios\"\n",
        "\n",
        "dados[\"vacina_grupoAtendimento_nome\"].value_counts().head(40)"
      ],
      "execution_count": null,
      "outputs": [
        {
          "output_type": "execute_result",
          "data": {
            "text/plain": [
              "Pessoas de 65 a 69 anos                                                      346746\n",
              "Pessoas de 70 a 74 anos                                                      340751\n",
              "Pessoas de 75 a 79 anos                                                      237583\n",
              "Outros                                                                       236965\n",
              "Pessoas de 80 anos ou mais                                                   229546\n",
              "Pessoas de 60 a 64 anos                                                      204062\n",
              "Povos indígenas em terras indígenas                                           46523\n",
              "Técnico de Enfermagem                                                         45011\n",
              "Pessoas de 60 nos ou mais Institucionalizadas                                 43126\n",
              "Quilombola                                                                    32835\n",
              "Enfermeiro(a)                                                                 18383\n",
              "Recepcionista                                                                 16781\n",
              "Médico                                                                        15350\n",
              "Pessoal da Limpeza                                                            14298\n",
              "Motorista de Ambulância                                                        9082\n",
              "Odontologista                                                                  8202\n",
              "Fisioterapeutas                                                                5322\n",
              "Cozinheiro e Auxiliares                                                        4690\n",
              "Policial Militar                                                               4347\n",
              "Segurança                                                                      3992\n",
              "Técnico de Odontologia                                                         3555\n",
              "Psicólogo                                                                      3500\n",
              "Farmacêutico                                                                   3166\n",
              "Cuidador de Idosos                                                             2890\n",
              "Nutricionista                                                                  2519\n",
              "Estudante                                                                      2309\n",
              "Assistente Social                                                              2277\n",
              "Funcionário do Sistema Funerário c/ cadáveres potencialmente contaminados      2149\n",
              "Diabetes Mellitus                                                              2042\n",
              "Hipertensão de difícil controle ou com complicações/lesão de órgão alvo        1766\n",
              "Auxiliar de Enfermagem                                                         1677\n",
              "Biomédico                                                                      1554\n",
              "Ensino Básico                                                                  1361\n",
              "Bombeiro Militar                                                               1023\n",
              "Pessoas com Deficiência Institucionalizadas                                     925\n",
              "Fonoaudiólogo                                                                   838\n",
              "Profissionais de Educação Física                                                819\n",
              "Obesidade Grave (Imc>=40)                                                       643\n",
              "Médico Veterinário                                                              632\n",
              "Doenças Cardiovasculares e Cerebrovasculares                                    540\n",
              "Name: vacina_grupoAtendimento_nome, dtype: int64"
            ]
          },
          "metadata": {
            "tags": []
          },
          "execution_count": 23
        }
      ]
    },
    {
      "cell_type": "code",
      "metadata": {
        "colab": {
          "base_uri": "https://localhost:8080/"
        },
        "id": "xNToevLV82-k",
        "outputId": "3be74145-25f5-41c4-b780-a0a888bae2ad"
      },
      "source": [
        "# Vacinas utilizadas --------------------- Não usar -- Dados confusos (?????????Ministerio da saúde??????) ----------------------\n",
        "\n",
        "dados.vacina_fabricante_nome.value_counts()"
      ],
      "execution_count": null,
      "outputs": [
        {
          "output_type": "execute_result",
          "data": {
            "text/plain": [
              "FUNDACAO BUTANTAN               1134997\n",
              "SERUM INSTITUTE OF INDIA LTD     352989\n",
              "FUNDACAO OSWALDO CRUZ            301338\n",
              "SINOVAC LIFE SCIENCE CO LTD       87805\n",
              "MINISTERIO DA SAUDE               28269\n",
              "BioNTech/Fosun Pharma/Pfizer        138\n",
              "Janssen-Cilag                        12\n",
              "Name: vacina_fabricante_nome, dtype: int64"
            ]
          },
          "metadata": {
            "tags": []
          },
          "execution_count": 24
        }
      ]
    },
    {
      "cell_type": "markdown",
      "metadata": {
        "id": "FOSEDxU39fRd"
      },
      "source": [
        "TESTES DE DADOS"
      ]
    },
    {
      "cell_type": "code",
      "metadata": {
        "id": "kI5RiS1S9eBN"
      },
      "source": [
        "dados.query()"
      ],
      "execution_count": null,
      "outputs": []
    }
  ]
}